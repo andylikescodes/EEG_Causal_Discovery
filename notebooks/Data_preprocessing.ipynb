{
 "cells": [
  {
   "cell_type": "code",
   "execution_count": 23,
   "metadata": {},
   "outputs": [],
   "source": [
    "import sys\n",
    "sys.path.append('../src/')\n",
    "\n",
    "from data_extraction import tools"
   ]
  },
  {
   "cell_type": "code",
   "execution_count": 24,
   "metadata": {},
   "outputs": [
    {
     "name": "stdout",
     "output_type": "stream",
     "text": [
      "The autoreload extension is already loaded. To reload it, use:\n",
      "  %reload_ext autoreload\n"
     ]
    }
   ],
   "source": [
    "%load_ext autoreload\n",
    "%autoreload 2"
   ]
  },
  {
   "cell_type": "code",
   "execution_count": 39,
   "metadata": {},
   "outputs": [],
   "source": [
    "import numpy as np\n",
    "import pandas as pd\n",
    "import matplotlib.pyplot as plt\n",
    "from scipy.io import loadmat\n",
    "import glob\n",
    "import mne\n",
    "import re\n",
    "import os"
   ]
  },
  {
   "cell_type": "code",
   "execution_count": 40,
   "metadata": {},
   "outputs": [
    {
     "name": "stdout",
     "output_type": "stream",
     "text": [
      "Reading ../data/SubjectX1/headcast_subj01_sess01_EEG_data_cube-epo.fif ...\n",
      "Isotrak not found\n",
      "    Found the data of interest:\n",
      "        t =       0.00 ...    4000.00 ms\n",
      "        0 CTF compensation matrices available\n",
      "327 matching events found\n",
      "No baseline correction applied\n",
      "327 matching events found\n",
      "No baseline correction applied\n",
      "Not setting metadata\n",
      "0 projection items activated\n"
     ]
    }
   ],
   "source": [
    "path = '../data/SubjectX1/headcast_subj01_sess01_EEG_data_cube-epo.fif'\n",
    "data = mne.read_epochs(path)"
   ]
  },
  {
   "cell_type": "code",
   "execution_count": 41,
   "metadata": {},
   "outputs": [
    {
     "data": {
      "text/plain": [
       "<Info | 18 non-empty fields\n",
       "    bads : list | 0 items\n",
       "    ch_names : list | 1, 2, 3, 4, 5, 6, 7, 8, 9, ...\n",
       "    chs : list | 60 items (EEG: 60)\n",
       "    comps : list | 0 items\n",
       "    custom_ref_applied : bool | False\n",
       "    dev_head_t : Transform | 3 items\n",
       "    events : list | 0 items\n",
       "    file_id : dict | 4 items\n",
       "    highpass : float | 0.0 Hz\n",
       "    hpi_meas : list | 0 items\n",
       "    hpi_results : list | 0 items\n",
       "    lowpass : float | 250.0 Hz\n",
       "    meas_date : NoneType | unspecified\n",
       "    meas_id : dict | 4 items\n",
       "    nchan : int | 60\n",
       "    proc_history : list | 0 items\n",
       "    projs : list | 0 items\n",
       "    sfreq : float | 500.0 Hz\n",
       "    acq_pars : NoneType\n",
       "    acq_stim : NoneType\n",
       "    ctf_head_t : NoneType\n",
       "    description : NoneType\n",
       "    dev_ctf_t : NoneType\n",
       "    dig : NoneType\n",
       "    experimenter : NoneType\n",
       "    gantry_angle : NoneType\n",
       "    hpi_subsystem : NoneType\n",
       "    kit_system_id : NoneType\n",
       "    line_freq : NoneType\n",
       "    proj_id : NoneType\n",
       "    proj_name : NoneType\n",
       "    subject_info : NoneType\n",
       "    xplotter_layout : NoneType\n",
       ">"
      ]
     },
     "execution_count": 41,
     "metadata": {},
     "output_type": "execute_result"
    }
   ],
   "source": [
    "data.info"
   ]
  },
  {
   "cell_type": "code",
   "execution_count": 28,
   "metadata": {},
   "outputs": [],
   "source": [
    "test = data.get_data()"
   ]
  },
  {
   "cell_type": "code",
   "execution_count": 29,
   "metadata": {},
   "outputs": [
    {
     "data": {
      "text/plain": [
       "(327, 60, 2001)"
      ]
     },
     "execution_count": 29,
     "metadata": {},
     "output_type": "execute_result"
    }
   ],
   "source": [
    "test.shape"
   ]
  },
  {
   "cell_type": "code",
   "execution_count": 42,
   "metadata": {},
   "outputs": [],
   "source": [
    "events = data.events"
   ]
  },
  {
   "cell_type": "code",
   "execution_count": 43,
   "metadata": {},
   "outputs": [],
   "source": [
    "test_data = data.get_data()"
   ]
  },
  {
   "cell_type": "code",
   "execution_count": 44,
   "metadata": {},
   "outputs": [
    {
     "data": {
      "text/plain": [
       "(327, 60, 2001)"
      ]
     },
     "execution_count": 44,
     "metadata": {},
     "output_type": "execute_result"
    }
   ],
   "source": [
    "test_data.shape"
   ]
  },
  {
   "cell_type": "code",
   "execution_count": 54,
   "metadata": {},
   "outputs": [
    {
     "data": {
      "text/plain": [
       "(327, 60, 2001)"
      ]
     },
     "execution_count": 54,
     "metadata": {},
     "output_type": "execute_result"
    }
   ],
   "source": [
    "test_data.reshape(-1, [])"
   ]
  },
  {
   "cell_type": "code",
   "execution_count": 62,
   "metadata": {},
   "outputs": [
    {
     "data": {
      "text/plain": [
       "(60, 654327)"
      ]
     },
     "execution_count": 62,
     "metadata": {},
     "output_type": "execute_result"
    }
   ],
   "source": [
    "test_data.transpose(1,2,0).reshape(60, -1).shape"
   ]
  },
  {
   "cell_type": "code",
   "execution_count": 45,
   "metadata": {},
   "outputs": [
    {
     "data": {
      "text/plain": [
       "array([[ 1500,     0,     1],\n",
       "       [ 3501,     0,     1],\n",
       "       [ 5502,     0,     2],\n",
       "       [ 7503,     0,     2],\n",
       "       [ 9504,     0,     1],\n",
       "       [11505,     0,     2],\n",
       "       [13506,     0,     1],\n",
       "       [15507,     0,     2],\n",
       "       [17508,     0,     1],\n",
       "       [19509,     0,     2]])"
      ]
     },
     "execution_count": 45,
     "metadata": {},
     "output_type": "execute_result"
    }
   ],
   "source": [
    "events[:10]"
   ]
  },
  {
   "cell_type": "code",
   "execution_count": 83,
   "metadata": {},
   "outputs": [],
   "source": [
    "def saperate_passive_active(epoch_array):\n",
    "    events = epoch_array.events\n",
    "    data_array = epoch_array.get_data()\n",
    "    \n",
    "    data_shape = data_array.shape\n",
    "    active_indexes = []\n",
    "    passive_indexes = []\n",
    "    for i in range(len(events)):\n",
    "        if events[i][2] == 1:\n",
    "            active_indexes.append(i)\n",
    "        if events[i][2] == 2:\n",
    "            passive_indexes.append(i)\n",
    "            \n",
    "    return data_array[active_indexes, :, :], data_array[passive_indexes, :, :]\n",
    "\n",
    "def sample_data_points(data, gap=300):\n",
    "    data_shape = data.shape\n",
    "    sampling_indexes = [index for index in range(0, data_shape[2], gap)]\n",
    "    sampled_data = data[:, :, sampling_indexes].transpose(1,2,0).reshape(data_shape[1], -1)\n",
    "    return sampled_data\n",
    "\n",
    "def create_dataset(filepaths):\n",
    "    temp_active = None\n",
    "    temp_passive = None\n",
    "    for path in filepaths:\n",
    "        epochs = mne.read_epochs(path)\n",
    "        active, passive = saperate_passive_active(epochs)\n",
    "        sampled_active = sample_data_points(active)\n",
    "        sampled_passive = sample_data_points(passive)\n",
    "        if (temp_active is not None) and (temp_passive is not None):\n",
    "            temp_active = np.hstack([temp_active, sampled_active])\n",
    "            temp_passive = np.hstack([temp_passive, sampled_passive])\n",
    "        else:\n",
    "            temp_active = sampled_active\n",
    "            temp_passive = sampled_passive\n",
    "        \n",
    "    return temp_active, temp_passive\n",
    "        \n",
    "        "
   ]
  },
  {
   "cell_type": "code",
   "execution_count": 84,
   "metadata": {},
   "outputs": [
    {
     "data": {
      "text/plain": [
       "['../data/SubjectX1\\\\headcast_subj01_sess01_EEG_data_cube-epo.fif',\n",
       " '../data/SubjectX1\\\\headcast_subj01_sess02_EEG_data_cube-epo.fif',\n",
       " '../data/SubjectX1\\\\headcast_subj01_sess03_EEG_data_cube-epo.fif',\n",
       " '../data/SubjectX1\\\\headcast_subj01_sess04_EEG_data_cube-epo.fif',\n",
       " '../data/SubjectX1\\\\headcast_subj01_sess05_EEG_data_cube-epo.fif',\n",
       " '../data/SubjectX1\\\\headcast_subj01_sess06_EEG_data_cube-epo.fif',\n",
       " '../data/SubjectX1\\\\headcast_subj01_sess07_EEG_data_cube-epo.fif']"
      ]
     },
     "execution_count": 84,
     "metadata": {},
     "output_type": "execute_result"
    }
   ],
   "source": [
    "data_mat = sorted(glob.glob('../data/SubjectX1/*.fif'))\n",
    "data_mat"
   ]
  },
  {
   "cell_type": "code",
   "execution_count": 85,
   "metadata": {},
   "outputs": [
    {
     "name": "stdout",
     "output_type": "stream",
     "text": [
      "Reading ../data/SubjectX1\\headcast_subj01_sess01_EEG_data_cube-epo.fif ...\n",
      "Isotrak not found\n",
      "    Found the data of interest:\n",
      "        t =       0.00 ...    4000.00 ms\n",
      "        0 CTF compensation matrices available\n",
      "327 matching events found\n",
      "No baseline correction applied\n",
      "327 matching events found\n",
      "No baseline correction applied\n",
      "Not setting metadata\n",
      "0 projection items activated\n",
      "Reading ../data/SubjectX1\\headcast_subj01_sess02_EEG_data_cube-epo.fif ...\n",
      "Isotrak not found\n",
      "    Found the data of interest:\n",
      "        t =       0.00 ...    4000.00 ms\n",
      "        0 CTF compensation matrices available\n",
      "261 matching events found\n",
      "No baseline correction applied\n",
      "261 matching events found\n",
      "No baseline correction applied\n",
      "Not setting metadata\n",
      "0 projection items activated\n",
      "Reading ../data/SubjectX1\\headcast_subj01_sess03_EEG_data_cube-epo.fif ...\n",
      "Isotrak not found\n",
      "    Found the data of interest:\n",
      "        t =       0.00 ...    4000.00 ms\n",
      "        0 CTF compensation matrices available\n",
      "347 matching events found\n",
      "No baseline correction applied\n",
      "347 matching events found\n",
      "No baseline correction applied\n",
      "Not setting metadata\n",
      "0 projection items activated\n",
      "Reading ../data/SubjectX1\\headcast_subj01_sess04_EEG_data_cube-epo.fif ...\n",
      "Isotrak not found\n",
      "    Found the data of interest:\n",
      "        t =       0.00 ...    4000.00 ms\n",
      "        0 CTF compensation matrices available\n",
      "335 matching events found\n",
      "No baseline correction applied\n",
      "335 matching events found\n",
      "No baseline correction applied\n",
      "Not setting metadata\n",
      "0 projection items activated\n",
      "Reading ../data/SubjectX1\\headcast_subj01_sess05_EEG_data_cube-epo.fif ...\n",
      "Isotrak not found\n",
      "    Found the data of interest:\n",
      "        t =       0.00 ...    4000.00 ms\n",
      "        0 CTF compensation matrices available\n",
      "339 matching events found\n",
      "No baseline correction applied\n",
      "339 matching events found\n",
      "No baseline correction applied\n",
      "Not setting metadata\n",
      "0 projection items activated\n",
      "Reading ../data/SubjectX1\\headcast_subj01_sess06_EEG_data_cube-epo.fif ...\n",
      "Isotrak not found\n",
      "    Found the data of interest:\n",
      "        t =       0.00 ...    4000.00 ms\n",
      "        0 CTF compensation matrices available\n",
      "294 matching events found\n",
      "No baseline correction applied\n",
      "294 matching events found\n",
      "No baseline correction applied\n",
      "Not setting metadata\n",
      "0 projection items activated\n",
      "Reading ../data/SubjectX1\\headcast_subj01_sess07_EEG_data_cube-epo.fif ...\n",
      "Isotrak not found\n",
      "    Found the data of interest:\n",
      "        t =       0.00 ...    4000.00 ms\n",
      "        0 CTF compensation matrices available\n",
      "381 matching events found\n",
      "No baseline correction applied\n",
      "381 matching events found\n",
      "No baseline correction applied\n",
      "Not setting metadata\n",
      "0 projection items activated\n"
     ]
    }
   ],
   "source": [
    "active, passive = create_dataset(data_mat)"
   ]
  },
  {
   "cell_type": "code",
   "execution_count": 86,
   "metadata": {},
   "outputs": [
    {
     "data": {
      "text/plain": [
       "(60, 8260)"
      ]
     },
     "execution_count": 86,
     "metadata": {},
     "output_type": "execute_result"
    }
   ],
   "source": [
    "active.shape"
   ]
  },
  {
   "cell_type": "code",
   "execution_count": 87,
   "metadata": {},
   "outputs": [
    {
     "data": {
      "text/plain": [
       "(60, 7728)"
      ]
     },
     "execution_count": 87,
     "metadata": {},
     "output_type": "execute_result"
    }
   ],
   "source": [
    "passive.shape"
   ]
  },
  {
   "cell_type": "code",
   "execution_count": 47,
   "metadata": {},
   "outputs": [],
   "source": [
    "a, b = saperate_passive_active(data)"
   ]
  },
  {
   "cell_type": "code",
   "execution_count": 64,
   "metadata": {},
   "outputs": [],
   "source": [
    "sampled_data = sample_data_points(a)"
   ]
  },
  {
   "cell_type": "code",
   "execution_count": 65,
   "metadata": {},
   "outputs": [
    {
     "data": {
      "text/plain": [
       "(60, 1197)"
      ]
     },
     "execution_count": 65,
     "metadata": {},
     "output_type": "execute_result"
    }
   ],
   "source": [
    "sampled_data"
   ]
  },
  {
   "cell_type": "code",
   "execution_count": 68,
   "metadata": {},
   "outputs": [],
   "source": [
    "sampled_data_2 = sample_data_points(b)"
   ]
  },
  {
   "cell_type": "code",
   "execution_count": 72,
   "metadata": {},
   "outputs": [
    {
     "data": {
      "text/plain": [
       "(60, 2289)"
      ]
     },
     "execution_count": 72,
     "metadata": {},
     "output_type": "execute_result"
    }
   ],
   "source": [
    "np.hstack([sampled_data, sampled_data_2]).shape"
   ]
  },
  {
   "cell_type": "markdown",
   "metadata": {},
   "source": [
    "# For Subject1"
   ]
  },
  {
   "cell_type": "code",
   "execution_count": 88,
   "metadata": {},
   "outputs": [
    {
     "data": {
      "text/plain": [
       "['../data/Subject1\\\\subj01_sess02_EEG_data_cube_oc-epo.fif',\n",
       " '../data/Subject1\\\\subj01_sess03_EEG_data_cube_oc-epo.fif',\n",
       " '../data/Subject1\\\\subj01_sess04_EEG_data_cube_oc-epo.fif',\n",
       " '../data/Subject1\\\\subj01_sess05_EEG_data_cube_oc-epo.fif']"
      ]
     },
     "execution_count": 88,
     "metadata": {},
     "output_type": "execute_result"
    }
   ],
   "source": [
    "data_mat = sorted(glob.glob('../data/Subject1/*.fif'))\n",
    "data_mat"
   ]
  },
  {
   "cell_type": "code",
   "execution_count": 89,
   "metadata": {},
   "outputs": [
    {
     "name": "stdout",
     "output_type": "stream",
     "text": [
      "Reading ../data/Subject1\\subj01_sess02_EEG_data_cube_oc-epo.fif ...\n",
      "Isotrak not found\n",
      "    Found the data of interest:\n",
      "        t =       0.00 ...    4500.00 ms\n",
      "        0 CTF compensation matrices available\n",
      "350 matching events found\n",
      "No baseline correction applied\n",
      "350 matching events found\n",
      "No baseline correction applied\n",
      "Not setting metadata\n",
      "0 projection items activated\n",
      "Reading ../data/Subject1\\subj01_sess03_EEG_data_cube_oc-epo.fif ...\n",
      "Isotrak not found\n",
      "    Found the data of interest:\n",
      "        t =       0.00 ...    4500.00 ms\n",
      "        0 CTF compensation matrices available\n",
      "250 matching events found\n",
      "No baseline correction applied\n",
      "250 matching events found\n",
      "No baseline correction applied\n",
      "Not setting metadata\n",
      "0 projection items activated\n",
      "Reading ../data/Subject1\\subj01_sess04_EEG_data_cube_oc-epo.fif ...\n",
      "Isotrak not found\n",
      "    Found the data of interest:\n",
      "        t =       0.00 ...    4500.00 ms\n",
      "        0 CTF compensation matrices available\n",
      "350 matching events found\n",
      "No baseline correction applied\n",
      "350 matching events found\n",
      "No baseline correction applied\n",
      "Not setting metadata\n",
      "0 projection items activated\n",
      "Reading ../data/Subject1\\subj01_sess05_EEG_data_cube_oc-epo.fif ...\n",
      "Isotrak not found\n",
      "    Found the data of interest:\n",
      "        t =       0.00 ...    4500.00 ms\n",
      "        0 CTF compensation matrices available\n",
      "350 matching events found\n",
      "No baseline correction applied\n",
      "350 matching events found\n",
      "No baseline correction applied\n",
      "Not setting metadata\n",
      "0 projection items activated\n"
     ]
    }
   ],
   "source": [
    "active, passive = create_dataset(data_mat)"
   ]
  },
  {
   "cell_type": "code",
   "execution_count": 90,
   "metadata": {},
   "outputs": [
    {
     "data": {
      "text/plain": [
       "(60, 7328)"
      ]
     },
     "execution_count": 90,
     "metadata": {},
     "output_type": "execute_result"
    }
   ],
   "source": [
    "active.shape"
   ]
  },
  {
   "cell_type": "code",
   "execution_count": 91,
   "metadata": {},
   "outputs": [
    {
     "data": {
      "text/plain": [
       "(60, 3072)"
      ]
     },
     "execution_count": 91,
     "metadata": {},
     "output_type": "execute_result"
    }
   ],
   "source": [
    "passive.shape"
   ]
  },
  {
   "cell_type": "code",
   "execution_count": null,
   "metadata": {},
   "outputs": [],
   "source": []
  }
 ],
 "metadata": {
  "kernelspec": {
   "display_name": "Python 3",
   "language": "python",
   "name": "python3"
  },
  "language_info": {
   "codemirror_mode": {
    "name": "ipython",
    "version": 3
   },
   "file_extension": ".py",
   "mimetype": "text/x-python",
   "name": "python",
   "nbconvert_exporter": "python",
   "pygments_lexer": "ipython3",
   "version": "3.6.8"
  }
 },
 "nbformat": 4,
 "nbformat_minor": 2
}
