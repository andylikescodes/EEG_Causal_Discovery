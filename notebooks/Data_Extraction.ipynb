{
 "cells": [
  {
   "cell_type": "code",
   "execution_count": 18,
   "metadata": {},
   "outputs": [],
   "source": [
    "import sys\n",
    "sys.path.append('../src/')\n",
    "\n",
    "from data_extraction import tools"
   ]
  },
  {
   "cell_type": "code",
   "execution_count": 19,
   "metadata": {},
   "outputs": [
    {
     "name": "stdout",
     "output_type": "stream",
     "text": [
      "The autoreload extension is already loaded. To reload it, use:\n",
      "  %reload_ext autoreload\n"
     ]
    }
   ],
   "source": [
    "%load_ext autoreload\n",
    "%autoreload 2"
   ]
  },
  {
   "cell_type": "code",
   "execution_count": 20,
   "metadata": {},
   "outputs": [],
   "source": [
    "import numpy as np\n",
    "import pandas as pd\n",
    "import matplotlib.pyplot as plt\n",
    "from scipy.io import loadmat\n",
    "import glob\n",
    "import mne\n",
    "import re\n",
    "import os"
   ]
  },
  {
   "cell_type": "markdown",
   "metadata": {},
   "source": [
    "# Useful functions"
   ]
  },
  {
   "cell_type": "code",
   "execution_count": 21,
   "metadata": {},
   "outputs": [],
   "source": [
    "def interpolate_data_bad_channels(electrode_location_mat, data_mat):\n",
    "    for i in range(len(electrode_location_mat)):\n",
    "        ch_names = tools.load_electrode_location(electrode_location_mat[i])\n",
    "        cube, btn, tAx = tools.load_mat(data_mat[i])\n",
    "        subject_epochs, _ = tools.encode_mne_object(cube, btn, tAx, ch_names=ch_names)\n",
    "        subject_interpolated = subject_epochs.copy().interpolate_bads(reset_bads=False, verbose=1)\n",
    "\n",
    "        filename = os.path.split(data_mat[i])[1].split('.')[0] + '-epo.fif'\n",
    "\n",
    "        subject_interpolated.save(filename, overwrite=True, verbose=True)"
   ]
  },
  {
   "cell_type": "markdown",
   "metadata": {},
   "source": [
    "# 1. Subject 2 interpolation"
   ]
  },
  {
   "cell_type": "code",
   "execution_count": 22,
   "metadata": {},
   "outputs": [
    {
     "data": {
      "text/plain": [
       "['../data/Subject2/electrode_location/Walter_subj02_sess01_EEG_art_proj_mat.mat',\n",
       " '../data/Subject2/electrode_location/Walter_subj02_sess02_EEG_art_proj_mat.mat',\n",
       " '../data/Subject2/electrode_location/Walter_subj02_sess03_EEG_art_proj_mat.mat',\n",
       " '../data/Subject2/electrode_location/Walter_subj02_sess04_EEG_art_proj_mat.mat']"
      ]
     },
     "execution_count": 22,
     "metadata": {},
     "output_type": "execute_result"
    }
   ],
   "source": [
    "electrode_location_mat = sorted(glob.glob('../data/Subject2/electrode_location/*.mat'))\n",
    "electrode_location_mat"
   ]
  },
  {
   "cell_type": "code",
   "execution_count": 23,
   "metadata": {},
   "outputs": [
    {
     "data": {
      "text/plain": [
       "['../data/Subject2/subj02_sess01_EEG_data_cube_oc.mat',\n",
       " '../data/Subject2/subj02_sess02_EEG_data_cube_oc.mat',\n",
       " '../data/Subject2/subj02_sess03_EEG_data_cube_oc.mat',\n",
       " '../data/Subject2/subj02_sess04_EEG_data_cube_oc.mat']"
      ]
     },
     "execution_count": 23,
     "metadata": {},
     "output_type": "execute_result"
    }
   ],
   "source": [
    "data_mat = sorted(glob.glob('../data/Subject2/*.mat'))\n",
    "data_mat"
   ]
  },
  {
   "cell_type": "code",
   "execution_count": null,
   "metadata": {},
   "outputs": [
    {
     "name": "stdout",
     "output_type": "stream",
     "text": [
      "Creating epochs\n",
      "350 matching events found\n",
      "No baseline correction applied\n",
      "Not setting metadata\n",
      "0 projection items activated\n",
      "0 bad epochs dropped\n",
      "Finished Processing!\n"
     ]
    }
   ],
   "source": [
    "interpolate_data_bad_channels(electrode_location_mat, data_mat)"
   ]
  },
  {
   "cell_type": "markdown",
   "metadata": {},
   "source": [
    "# 2. Subject 3 interpolation"
   ]
  },
  {
   "cell_type": "code",
   "execution_count": 16,
   "metadata": {},
   "outputs": [
    {
     "data": {
      "text/plain": [
       "['../data/Subject3/electrode_location/Walter_subj03_sess01_EEG_art_proj_mat.mat',\n",
       " '../data/Subject3/electrode_location/Walter_subj03_sess02_EEG_art_proj_mat.mat',\n",
       " '../data/Subject3/electrode_location/Walter_subj03_sess03_EEG_art_proj_mat.mat',\n",
       " '../data/Subject3/electrode_location/Walter_subj03_sess04_EEG_art_proj_mat.mat']"
      ]
     },
     "execution_count": 16,
     "metadata": {},
     "output_type": "execute_result"
    }
   ],
   "source": [
    "electrode_location_mat = sorted(glob.glob('../data/Subject3/electrode_location/*.mat'))\n",
    "electrode_location_mat"
   ]
  },
  {
   "cell_type": "code",
   "execution_count": 17,
   "metadata": {},
   "outputs": [
    {
     "data": {
      "text/plain": [
       "['../data/Subject3/subj03_sess01_EEG_data_cube_oc.mat',\n",
       " '../data/Subject3/subj03_sess02_EEG_data_cube_oc.mat',\n",
       " '../data/Subject3/subj03_sess03_EEG_data_cube_oc.mat',\n",
       " '../data/Subject3/subj03_sess04_EEG_data_cube_oc.mat']"
      ]
     },
     "execution_count": 17,
     "metadata": {},
     "output_type": "execute_result"
    }
   ],
   "source": [
    "data_mat = sorted(glob.glob('../data/Subject3/*.mat'))\n",
    "data_mat"
   ]
  },
  {
   "cell_type": "code",
   "execution_count": null,
   "metadata": {},
   "outputs": [],
   "source": [
    "interpolate_data_bad_channels(electrode_location_mat, data_mat)"
   ]
  },
  {
   "cell_type": "code",
   "execution_count": null,
   "metadata": {},
   "outputs": [],
   "source": []
  },
  {
   "cell_type": "code",
   "execution_count": null,
   "metadata": {},
   "outputs": [],
   "source": []
  },
  {
   "cell_type": "code",
   "execution_count": null,
   "metadata": {},
   "outputs": [],
   "source": []
  }
 ],
 "metadata": {
  "kernelspec": {
   "display_name": "Python 3",
   "language": "python",
   "name": "python3"
  },
  "language_info": {
   "codemirror_mode": {
    "name": "ipython",
    "version": 3
   },
   "file_extension": ".py",
   "mimetype": "text/x-python",
   "name": "python",
   "nbconvert_exporter": "python",
   "pygments_lexer": "ipython3",
   "version": "3.6.8"
  }
 },
 "nbformat": 4,
 "nbformat_minor": 2
}
