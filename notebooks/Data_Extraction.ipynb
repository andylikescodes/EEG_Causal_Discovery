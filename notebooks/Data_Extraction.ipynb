{
 "cells": [
  {
   "cell_type": "code",
   "execution_count": 5,
   "metadata": {},
   "outputs": [],
   "source": [
    "import sys\n",
    "sys.path.append('../src/')\n",
    "\n",
    "from data_extraction import tools"
   ]
  },
  {
   "cell_type": "code",
   "execution_count": 7,
   "metadata": {},
   "outputs": [],
   "source": [
    "%load_ext autoreload\n",
    "%autoreload 2"
   ]
  },
  {
   "cell_type": "code",
   "execution_count": 8,
   "metadata": {},
   "outputs": [],
   "source": [
    "import numpy as np\n",
    "import pandas as pd\n",
    "import matplotlib.pyplot as plt\n",
    "from scipy.io import loadmat\n",
    "import glob\n",
    "import mne\n",
    "import re"
   ]
  },
  {
   "cell_type": "code",
   "execution_count": 9,
   "metadata": {},
   "outputs": [
    {
     "data": {
      "text/plain": [
       "['../data/SubjectX1\\\\headcast_subj01_sess02_EEG_data_cube.mat',\n",
       " '../data/SubjectX1\\\\headcast_subj01_sess05_EEG_data_cube.mat',\n",
       " '../data/SubjectX1\\\\headcast_subj01_sess06_EEG_data_cube.mat']"
      ]
     },
     "execution_count": 9,
     "metadata": {},
     "output_type": "execute_result"
    }
   ],
   "source": [
    "data_mat = sorted(glob.glob('../data/SubjectX1/*.mat'))\n",
    "data_mat"
   ]
  },
  {
   "cell_type": "code",
   "execution_count": 11,
   "metadata": {},
   "outputs": [],
   "source": [
    "cube, btn, tAx = tools.load_mat(data_mat[0])"
   ]
  },
  {
   "cell_type": "code",
   "execution_count": 12,
   "metadata": {},
   "outputs": [
    {
     "name": "stdout",
     "output_type": "stream",
     "text": [
      "Creating epochs\n",
      "261 matching events found\n",
      "No baseline correction applied\n",
      "Not setting metadata\n",
      "0 projection items activated\n",
      "0 bad epochs dropped\n",
      "Finished Processing!\n"
     ]
    }
   ],
   "source": [
    "subjectX1_epochs, subjectX1_info = tools.encode_mne_object(cube, btn, tAx)"
   ]
  },
  {
   "cell_type": "code",
   "execution_count": 15,
   "metadata": {},
   "outputs": [
    {
     "name": "stdout",
     "output_type": "stream",
     "text": [
      "Overwriting existing file.\n"
     ]
    }
   ],
   "source": [
    "subjectX1_epochs.save('../data/test-epo.fif', overwrite=True)"
   ]
  },
  {
   "cell_type": "code",
   "execution_count": 17,
   "metadata": {},
   "outputs": [
    {
     "data": {
      "text/plain": [
       "['../data/Subject2/electrode_location\\\\Walter_subj02_sess01_EEG_art_proj_mat.mat',\n",
       " '../data/Subject2/electrode_location\\\\Walter_subj02_sess02_EEG_art_proj_mat.mat',\n",
       " '../data/Subject2/electrode_location\\\\Walter_subj02_sess03_EEG_art_proj_mat.mat',\n",
       " '../data/Subject2/electrode_location\\\\Walter_subj02_sess04_EEG_art_proj_mat.mat']"
      ]
     },
     "execution_count": 17,
     "metadata": {},
     "output_type": "execute_result"
    }
   ],
   "source": [
    "electrode_location_mat = sorted(glob.glob('../data/Subject2/electrode_location/*.mat'))\n",
    "electrode_location_mat"
   ]
  },
  {
   "cell_type": "code",
   "execution_count": 18,
   "metadata": {},
   "outputs": [
    {
     "data": {
      "text/plain": [
       "['../data/Subject2\\\\subj02_sess01_EEG_data_cube_oc.mat',\n",
       " '../data/Subject2\\\\subj02_sess02_EEG_data_cube_oc.mat',\n",
       " '../data/Subject2\\\\subj02_sess03_EEG_data_cube_oc.mat',\n",
       " '../data/Subject2\\\\subj02_sess04_EEG_data_cube_oc.mat']"
      ]
     },
     "execution_count": 18,
     "metadata": {},
     "output_type": "execute_result"
    }
   ],
   "source": [
    "data_mat = sorted(glob.glob('../data/Subject2/*.mat'))\n",
    "data_mat"
   ]
  },
  {
   "cell_type": "code",
   "execution_count": 19,
   "metadata": {},
   "outputs": [
    {
     "name": "stdout",
     "output_type": "stream",
     "text": [
      "Creating epochs\n",
      "350 matching events found\n",
      "No baseline correction applied\n",
      "Not setting metadata\n",
      "0 projection items activated\n",
      "0 bad epochs dropped\n",
      "Finished Processing!\n"
     ]
    }
   ],
   "source": [
    "ch_names = tools.load_electrode_location(electrode_location_mat[0])\n",
    "cube, btn, tAx = tools.load_mat(data_mat[0])\n",
    "subject1_epochs, _ = tools.encode_mne_object(cube, btn, tAx, ch_names=ch_names)"
   ]
  },
  {
   "cell_type": "code",
   "execution_count": null,
   "metadata": {},
   "outputs": [],
   "source": [
    "test = subject1_epochs.interpolate_bads()"
   ]
  },
  {
   "cell_type": "code",
   "execution_count": null,
   "metadata": {},
   "outputs": [],
   "source": []
  }
 ],
 "metadata": {
  "kernelspec": {
   "display_name": "Python 3",
   "language": "python",
   "name": "python3"
  },
  "language_info": {
   "codemirror_mode": {
    "name": "ipython",
    "version": 3
   },
   "file_extension": ".py",
   "mimetype": "text/x-python",
   "name": "python",
   "nbconvert_exporter": "python",
   "pygments_lexer": "ipython3",
   "version": "3.7.4"
  }
 },
 "nbformat": 4,
 "nbformat_minor": 2
}
