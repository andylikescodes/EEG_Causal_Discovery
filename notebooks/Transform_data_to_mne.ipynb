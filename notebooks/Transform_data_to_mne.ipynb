{
 "cells": [
  {
   "cell_type": "code",
   "execution_count": 21,
   "metadata": {},
   "outputs": [],
   "source": [
    "import sys\n",
    "sys.path.append('../src/')\n",
    "\n",
    "from data_extraction import tools"
   ]
  },
  {
   "cell_type": "code",
   "execution_count": 22,
   "metadata": {},
   "outputs": [
    {
     "name": "stdout",
     "output_type": "stream",
     "text": [
      "The autoreload extension is already loaded. To reload it, use:\n",
      "  %reload_ext autoreload\n"
     ]
    }
   ],
   "source": [
    "%load_ext autoreload\n",
    "%autoreload 2"
   ]
  },
  {
   "cell_type": "code",
   "execution_count": 23,
   "metadata": {},
   "outputs": [],
   "source": [
    "import numpy as np\n",
    "import pandas as pd\n",
    "import matplotlib.pyplot as plt\n",
    "from scipy.io import loadmat\n",
    "import glob\n",
    "import mne\n",
    "import re\n",
    "import os"
   ]
  },
  {
   "cell_type": "code",
   "execution_count": 33,
   "metadata": {},
   "outputs": [],
   "source": [
    "def transform_to_mne(data_mat):\n",
    "    for i in range(len(data_mat)):\n",
    "        cube, btn, tAx = tools.load_mat(data_mat[i])\n",
    "        subject_epochs, _ = tools.encode_mne_object(cube, btn, tAx)\n",
    "    \n",
    "        path = os.path.split(data_mat[i])\n",
    "        filename = os.path.join(path[0], path[1].split('.')[0] + '-epo.fif')\n",
    "\n",
    "        subject_epochs.save(filename, verbose=1)"
   ]
  },
  {
   "cell_type": "markdown",
   "metadata": {},
   "source": [
    "# 1. Transform for SubjectX1"
   ]
  },
  {
   "cell_type": "code",
   "execution_count": 34,
   "metadata": {},
   "outputs": [
    {
     "data": {
      "text/plain": [
       "['../data/SubjectX1/headcast_subj01_sess01_EEG_data_cube.mat',\n",
       " '../data/SubjectX1/headcast_subj01_sess02_EEG_data_cube.mat',\n",
       " '../data/SubjectX1/headcast_subj01_sess03_EEG_data_cube.mat',\n",
       " '../data/SubjectX1/headcast_subj01_sess04_EEG_data_cube.mat',\n",
       " '../data/SubjectX1/headcast_subj01_sess05_EEG_data_cube.mat',\n",
       " '../data/SubjectX1/headcast_subj01_sess06_EEG_data_cube.mat',\n",
       " '../data/SubjectX1/headcast_subj01_sess07_EEG_data_cube.mat']"
      ]
     },
     "execution_count": 34,
     "metadata": {},
     "output_type": "execute_result"
    }
   ],
   "source": [
    "data_mat = sorted(glob.glob('../data/SubjectX1/*.mat'))\n",
    "data_mat"
   ]
  },
  {
   "cell_type": "code",
   "execution_count": 35,
   "metadata": {},
   "outputs": [
    {
     "name": "stdout",
     "output_type": "stream",
     "text": [
      "Creating epochs\n",
      "327 matching events found\n",
      "No baseline correction applied\n",
      "Not setting metadata\n",
      "0 projection items activated\n",
      "0 bad epochs dropped\n",
      "Finished Processing!\n",
      "Writing using normal I/O\n",
      "Creating epochs\n",
      "261 matching events found\n",
      "No baseline correction applied\n",
      "Not setting metadata\n",
      "0 projection items activated\n",
      "0 bad epochs dropped\n",
      "Finished Processing!\n",
      "Writing using normal I/O\n",
      "Creating epochs\n",
      "347 matching events found\n",
      "No baseline correction applied\n",
      "Not setting metadata\n",
      "0 projection items activated\n",
      "0 bad epochs dropped\n",
      "Finished Processing!\n",
      "Writing using normal I/O\n",
      "Creating epochs\n",
      "335 matching events found\n",
      "No baseline correction applied\n",
      "Not setting metadata\n",
      "0 projection items activated\n",
      "0 bad epochs dropped\n",
      "Finished Processing!\n",
      "Writing using normal I/O\n",
      "Creating epochs\n",
      "339 matching events found\n",
      "No baseline correction applied\n",
      "Not setting metadata\n",
      "0 projection items activated\n",
      "0 bad epochs dropped\n",
      "Finished Processing!\n",
      "Writing using normal I/O\n",
      "Creating epochs\n",
      "294 matching events found\n",
      "No baseline correction applied\n",
      "Not setting metadata\n",
      "0 projection items activated\n",
      "0 bad epochs dropped\n",
      "Finished Processing!\n",
      "Writing using normal I/O\n",
      "Creating epochs\n",
      "381 matching events found\n",
      "No baseline correction applied\n",
      "Not setting metadata\n",
      "0 projection items activated\n",
      "0 bad epochs dropped\n",
      "Finished Processing!\n",
      "Writing using normal I/O\n"
     ]
    }
   ],
   "source": [
    "transform_to_mne(data_mat)"
   ]
  },
  {
   "cell_type": "markdown",
   "metadata": {},
   "source": [
    "# 2. Transform for Subject1"
   ]
  },
  {
   "cell_type": "code",
   "execution_count": 36,
   "metadata": {},
   "outputs": [
    {
     "data": {
      "text/plain": [
       "['../data/Subject1/subj01_sess02_EEG_data_cube_oc.mat',\n",
       " '../data/Subject1/subj01_sess03_EEG_data_cube_oc.mat',\n",
       " '../data/Subject1/subj01_sess04_EEG_data_cube_oc.mat',\n",
       " '../data/Subject1/subj01_sess05_EEG_data_cube_oc.mat']"
      ]
     },
     "execution_count": 36,
     "metadata": {},
     "output_type": "execute_result"
    }
   ],
   "source": [
    "data_mat = sorted(glob.glob('../data/Subject1/*.mat'))\n",
    "data_mat"
   ]
  },
  {
   "cell_type": "code",
   "execution_count": 37,
   "metadata": {},
   "outputs": [
    {
     "name": "stdout",
     "output_type": "stream",
     "text": [
      "Creating epochs\n",
      "350 matching events found\n",
      "No baseline correction applied\n",
      "Not setting metadata\n",
      "0 projection items activated\n",
      "0 bad epochs dropped\n",
      "Finished Processing!\n",
      "Writing using normal I/O\n",
      "Creating epochs\n",
      "250 matching events found\n",
      "No baseline correction applied\n",
      "Not setting metadata\n",
      "0 projection items activated\n",
      "0 bad epochs dropped\n",
      "Finished Processing!\n",
      "Writing using normal I/O\n",
      "Creating epochs\n",
      "350 matching events found\n",
      "No baseline correction applied\n",
      "Not setting metadata\n",
      "0 projection items activated\n",
      "0 bad epochs dropped\n",
      "Finished Processing!\n",
      "Writing using normal I/O\n",
      "Creating epochs\n",
      "350 matching events found\n",
      "No baseline correction applied\n",
      "Not setting metadata\n",
      "0 projection items activated\n",
      "0 bad epochs dropped\n",
      "Finished Processing!\n",
      "Writing using normal I/O\n"
     ]
    }
   ],
   "source": [
    "transform_to_mne(data_mat)"
   ]
  },
  {
   "cell_type": "code",
   "execution_count": null,
   "metadata": {},
   "outputs": [],
   "source": []
  }
 ],
 "metadata": {
  "kernelspec": {
   "display_name": "Python 3",
   "language": "python",
   "name": "python3"
  },
  "language_info": {
   "codemirror_mode": {
    "name": "ipython",
    "version": 3
   },
   "file_extension": ".py",
   "mimetype": "text/x-python",
   "name": "python",
   "nbconvert_exporter": "python",
   "pygments_lexer": "ipython3",
   "version": "3.6.8"
  }
 },
 "nbformat": 4,
 "nbformat_minor": 2
}
