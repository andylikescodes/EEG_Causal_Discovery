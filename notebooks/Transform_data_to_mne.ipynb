{
 "cells": [
  {
   "cell_type": "code",
   "execution_count": 1,
   "metadata": {},
   "outputs": [],
   "source": [
    "import sys\n",
    "sys.path.append('../src/')\n",
    "\n",
    "from data_extraction import tools"
   ]
  },
  {
   "cell_type": "code",
   "execution_count": 2,
   "metadata": {},
   "outputs": [],
   "source": [
    "%load_ext autoreload\n",
    "%autoreload 2"
   ]
  },
  {
   "cell_type": "code",
   "execution_count": 3,
   "metadata": {},
   "outputs": [],
   "source": [
    "import numpy as np\n",
    "import pandas as pd\n",
    "import matplotlib.pyplot as plt\n",
    "from scipy.io import loadmat\n",
    "import glob\n",
    "import mne\n",
    "import re\n",
    "import os"
   ]
  },
  {
   "cell_type": "code",
   "execution_count": null,
   "metadata": {},
   "outputs": [],
   "source": [
    "def transform_to_(electrode_location_mat, data_mat):\n",
    "    for i in range(len(electrode_location_mat)):\n",
    "        ch_names = tools.load_electrode_location(electrode_location_mat[i])\n",
    "        cube, btn, tAx = tools.load_mat(data_mat[i])\n",
    "        subject_epochs, _ = tools.encode_mne_object(cube, btn, tAx, ch_names=ch_names)\n",
    "        subject_interpolated = subject_epochs.copy().interpolate_bads(reset_bads=False, verbose=1)\n",
    "\n",
    "        filename = os.path.split(data_mat[i])[1].split('.')[0] + '-epo.fif'\n",
    "\n",
    "        subject_interpolated.save(filename, overwrite=True, verbose=True)"
   ]
  }
 ],
 "metadata": {
  "kernelspec": {
   "display_name": "Python 3",
   "language": "python",
   "name": "python3"
  },
  "language_info": {
   "codemirror_mode": {
    "name": "ipython",
    "version": 3
   },
   "file_extension": ".py",
   "mimetype": "text/x-python",
   "name": "python",
   "nbconvert_exporter": "python",
   "pygments_lexer": "ipython3",
   "version": "3.6.8"
  }
 },
 "nbformat": 4,
 "nbformat_minor": 2
}
